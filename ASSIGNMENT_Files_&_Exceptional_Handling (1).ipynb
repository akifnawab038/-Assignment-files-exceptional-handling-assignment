{
  "nbformat": 4,
  "nbformat_minor": 0,
  "metadata": {
    "colab": {
      "provenance": []
    },
    "kernelspec": {
      "name": "python3",
      "display_name": "Python 3"
    },
    "language_info": {
      "name": "python"
    }
  },
  "cells": [
    {
      "cell_type": "markdown",
      "source": [
        "\n",
        "# ASSIGNMENT : Files & Exceptional Handling\n",
        "\n",
        "\n"
      ],
      "metadata": {
        "id": "VqHX04pCs9PA"
      }
    },
    {
      "cell_type": "markdown",
      "source": [
        "1. Multithreading vs. Multiprocessing\n",
        "Scenarios where Multithreading is Preferable:\n",
        "\n",
        "- I/O-Bound Tasks: When tasks spend most of their time waiting for I/O operations (like reading/writing files, network requests), multithreading can be beneficial. Threads can switch to another task while one is waiting for I/O, maximizing CPU utilization.\n",
        "- Shared Memory Needs: If multiple threads need to access and modify shared data frequently, multithreading can be easier because threads share the same memory space. However, care must be taken to manage access (using locks).\n",
        "- Low Overhead: Creating threads is generally less resource-intensive than creating processes, making it suitable for lighter tasks.\n",
        "\n",
        "**Scenarios where Multiprocessing is Preferable:**\n",
        "- CPU-Bound Tasks: When tasks require significant CPU resources (like heavy computations), multiprocessing is better. Each process runs in its own memory space and can fully utilize multiple CPU cores without being affected by the Global Interpreter Lock (GIL) in Python.\n",
        "- Isolation Needs: Processes are isolated from one another, which adds a layer of safety. If a process crashes, it won't affect others.\n",
        "- Memory Consumption: If a task uses a lot of memory and has a large data set, multiprocessing can manage this more effectively since each process has its own memory space."
      ],
      "metadata": {
        "id": "cldjqzUop0SZ"
      }
    },
    {
      "cell_type": "code",
      "source": [],
      "metadata": {
        "id": "YuXvcWBeqfs-"
      },
      "execution_count": null,
      "outputs": []
    },
    {
      "cell_type": "markdown",
      "source": [
        "**2. Describe what a process pool is and how it helps in managing multiple processes efficiently.**"
      ],
      "metadata": {
        "id": "Rm6htZA3qa3W"
      }
    },
    {
      "cell_type": "markdown",
      "source": [
        "A process pool is a group of worker processes that can execute tasks concurrently. It helps in managing multiple processes efficiently by:\n",
        "\n",
        "- Reusing Processes: Instead of creating and destroying processes for every task, a pool maintains a set number of processes that can handle multiple tasks, reducing the overhead of process creation.\n",
        "- Task Queueing: When a new task arrives, it can be queued and assigned to an available worker process, balancing the load across processes.\n",
        "- Easy Management: Pools simplify the management of multiple processes, as they provide an interface to submit tasks, retrieve results, and handle errors more cleanly."
      ],
      "metadata": {
        "id": "kaPuOXYyqlsI"
      }
    },
    {
      "cell_type": "code",
      "source": [],
      "metadata": {
        "id": "Gvn2ROwLowlA"
      },
      "execution_count": null,
      "outputs": []
    },
    {
      "cell_type": "markdown",
      "source": [
        "**3. Explain what multiprocessing is and why it is used in Python programs.**"
      ],
      "metadata": {
        "id": "DRkKg0pAqw0m"
      }
    },
    {
      "cell_type": "markdown",
      "source": [
        "Multiprocessing is a module in Python that allows the creation of multiple processes, each running in its own Python interpreter. It's used in Python programs to:\n",
        "\n",
        "- Bypass GIL Limitations: The Global Interpreter Lock restricts the execution of threads in Python, limiting the ability to utilize multiple CPU cores effectively. Multiprocessing allows the program to take full advantage of multicore CPUs.\n",
        "- Isolate Tasks: Each process has its own memory space, which provides isolation and prevents one process from affecting another.\n",
        "- Improve Performance: For CPU-bound tasks, multiprocessing can significantly enhance performance by distributing the workload across multiple cores."
      ],
      "metadata": {
        "id": "Mg3wxsXOqwzx"
      }
    },
    {
      "cell_type": "code",
      "execution_count": null,
      "metadata": {
        "id": "mSVFZ30LosAX"
      },
      "outputs": [],
      "source": []
    },
    {
      "cell_type": "markdown",
      "source": [
        "**4. Write a Python program using multithreading where one thread adds numbers to a list, and another\n",
        "thread removes numbers from the list. Implement a mechanism to avoid race conditions using\n",
        "threading.Lock**"
      ],
      "metadata": {
        "id": "qoM8vX6vrF_1"
      }
    },
    {
      "cell_type": "code",
      "source": [
        "#Here's a simple Python program that uses multithreading to add and remove numbers from a list while avoiding race conditions:\n",
        "\n",
        "\n",
        "\n",
        "import threading\n",
        "import time\n",
        "\n",
        "shared_list = []\n",
        "lock = threading.Lock()\n",
        "\n",
        "def add_numbers():\n",
        "    for i in range(5):\n",
        "        with lock:\n",
        "            shared_list.append(i)\n",
        "            print(f\"Added {i} to the list.\")\n",
        "        time.sleep(1)\n",
        "def remove_numbers():\n",
        "    for _ in range(5):\n",
        "        time.sleep(1.5)\n",
        "        with lock:\n",
        "            if shared_list:\n",
        "                removed = shared_list.pop(0)\n",
        "                print(f\"Removed {removed} from the list.\")\n",
        "\n",
        "add_thread = threading.Thread(target=add_numbers)\n",
        "remove_thread = threading.Thread(target=remove_numbers)\n",
        "\n",
        "add_thread.start()\n",
        "remove_thread.start()\n",
        "\n",
        "add_thread.join()\n",
        "remove_thread.join()\n",
        "\n",
        "print(\"Final list:\", shared_list)\n"
      ],
      "metadata": {
        "colab": {
          "base_uri": "https://localhost:8080/"
        },
        "id": "dKjGil2krKxA",
        "outputId": "6332498c-b9d1-4f2f-ea07-001c0aee7865"
      },
      "execution_count": 1,
      "outputs": [
        {
          "output_type": "stream",
          "name": "stdout",
          "text": [
            "Added 0 to the list.\n",
            "Added 1 to the list.\n",
            "Removed 0 from the list.\n",
            "Added 2 to the list.\n",
            "Removed 1 from the list.\n",
            "Added 3 to the list.\n",
            "Added 4 to the list.\n",
            "Removed 2 from the list.\n",
            "Removed 3 from the list.\n",
            "Removed 4 from the list.\n",
            "Final list: []\n"
          ]
        }
      ]
    },
    {
      "cell_type": "code",
      "source": [],
      "metadata": {
        "id": "DrD1f2bDrXiM"
      },
      "execution_count": null,
      "outputs": []
    },
    {
      "cell_type": "markdown",
      "source": [
        "**5. Describe the methods and tools available in Python for safely sharing data between threads and\n",
        "processes.**"
      ],
      "metadata": {
        "id": "Q3x1cNwzrb2U"
      }
    },
    {
      "cell_type": "markdown",
      "source": [
        "In Python, you can use several methods and tools for safely sharing data between threads and processes:\n",
        "\n",
        "- Locks: Use threading.Lock for threads to prevent race conditions.\n",
        "- Queues: queue.Queue (for threads) and multiprocessing.Queue (for processes) allow safe sharing of data by providing thread-safe or process-safe FIFO queues.\n",
        "- Events: threading.Event can signal between threads to coordinate actions.\n",
        "- Conditions: threading.Condition allows threads to wait for certain conditions to be met.\n",
        "- Shared Memory: For processes, multiprocessing.Array and multiprocessing.Value can be used to share data.\n"
      ],
      "metadata": {
        "id": "YgdQ-zWzrb1g"
      }
    },
    {
      "cell_type": "code",
      "source": [],
      "metadata": {
        "id": "PkBUJr5Lrr2N"
      },
      "execution_count": null,
      "outputs": []
    },
    {
      "cell_type": "markdown",
      "source": [
        "**6. Discuss why it’s crucial to handle exceptions in concurrent programs and the techniques available for\n",
        "doing so.**"
      ],
      "metadata": {
        "id": "F3scuQSRrwnS"
      }
    },
    {
      "cell_type": "markdown",
      "source": [
        "Handling exceptions in concurrent programs is crucial because:\n",
        "\n",
        "- Debugging Difficulty: Errors in threads or processes can be harder to trace back to their origin due to the asynchronous nature of execution.\n",
        "- Program Stability: Unhandled exceptions can cause crashes or unpredictable behavior, affecting the entire application.\n",
        "\n",
        "**Techniques for Handling Exceptions:**\n",
        "\n",
        "- Try-Except Blocks: Use try-except blocks within threads or processes to catch and handle exceptions locally.\n",
        "- Error Propagation: Use mechanisms like concurrent.futures which allow exceptions from worker threads/processes to propagate back to the main thread.\n",
        "- Logging: Implement logging to record exceptions and debug information for later analysis"
      ],
      "metadata": {
        "id": "4CQ7B4GNr2hD"
      }
    },
    {
      "cell_type": "markdown",
      "source": [],
      "metadata": {
        "id": "dNmaMBFtr2gJ"
      }
    },
    {
      "cell_type": "markdown",
      "source": [
        "**7. Create a program that uses a thread pool to calculate the factorial of numbers from 1 to 10 concurrently.\n",
        "Use concurrent.futures.ThreadPoolExecutor to manage the threads.**"
      ],
      "metadata": {
        "id": "7LIbNaQTsIBN"
      }
    },
    {
      "cell_type": "markdown",
      "source": [
        "Here’s a program that uses a thread pool to calculate the factorial of numbers from 1 to 10 concurrently:\n",
        "\n"
      ],
      "metadata": {
        "id": "EFnKgBWZsNcD"
      }
    },
    {
      "cell_type": "code",
      "source": [
        "from concurrent.futures import ThreadPoolExecutor\n",
        "import math\n",
        "\n",
        "def calculate_factorial(n):\n",
        "    return math.factorial(n)\n",
        "\n",
        "with ThreadPoolExecutor(max_workers=5) as executor:\n",
        "    results = list(executor.map(calculate_factorial, range(1, 11)))\n",
        "\n",
        "print(\"Factorials from 1 to 10:\", results)\n"
      ],
      "metadata": {
        "colab": {
          "base_uri": "https://localhost:8080/"
        },
        "id": "I-qmdvYVrzPr",
        "outputId": "e10b1c33-e564-4e31-9ccc-77ea29df5739"
      },
      "execution_count": 2,
      "outputs": [
        {
          "output_type": "stream",
          "name": "stdout",
          "text": [
            "Factorials from 1 to 10: [1, 2, 6, 24, 120, 720, 5040, 40320, 362880, 3628800]\n"
          ]
        }
      ]
    },
    {
      "cell_type": "code",
      "source": [],
      "metadata": {
        "id": "XmdgpJj3sRSs"
      },
      "execution_count": null,
      "outputs": []
    },
    {
      "cell_type": "markdown",
      "source": [
        "**8. Create a Python program that uses multiprocessing.Pool to compute the square of numbers from 1 to 10 in\n",
        "parallel. Measure the time taken to perform this computation using a pool of different sizes (e.g., 2, 4, 8\n",
        "processes).**"
      ],
      "metadata": {
        "id": "Bef-19ZnsUQU"
      }
    },
    {
      "cell_type": "markdown",
      "source": [
        "Here’s a Python program that uses multiprocessing.Pool to compute the square of numbers from 1 to 10 in parallel:\n",
        "\n"
      ],
      "metadata": {
        "id": "b58HO-SWsZpv"
      }
    },
    {
      "cell_type": "code",
      "source": [
        "import multiprocessing\n",
        "import time\n",
        "\n",
        "def square(n):\n",
        "    return n * n\n",
        "\n",
        "if __name__ == \"__main__\":\n",
        "    for pool_size in [2, 4, 8]:\n",
        "        start_time = time.time()\n",
        "\n",
        "        with multiprocessing.Pool(processes=pool_size) as pool:\n",
        "            results = pool.map(square, range(1, 11))\n",
        "\n",
        "        print(f\"Results with pool size {pool_size}:\", results)\n",
        "        print(f\"Time taken: {time.time() - start_time:.4f} seconds\")\n"
      ],
      "metadata": {
        "colab": {
          "base_uri": "https://localhost:8080/"
        },
        "id": "rPZWB-zksXvz",
        "outputId": "e5ee8bcb-8df6-450b-d021-f0a4106f4009"
      },
      "execution_count": 3,
      "outputs": [
        {
          "output_type": "stream",
          "name": "stdout",
          "text": [
            "Results with pool size 2: [1, 4, 9, 16, 25, 36, 49, 64, 81, 100]\n",
            "Time taken: 0.0717 seconds\n",
            "Results with pool size 4: [1, 4, 9, 16, 25, 36, 49, 64, 81, 100]\n",
            "Time taken: 0.0544 seconds\n",
            "Results with pool size 8: [1, 4, 9, 16, 25, 36, 49, 64, 81, 100]\n",
            "Time taken: 0.0863 seconds\n"
          ]
        }
      ]
    },
    {
      "cell_type": "code",
      "source": [],
      "metadata": {
        "id": "gaFDeuvesboI"
      },
      "execution_count": null,
      "outputs": []
    }
  ]
}